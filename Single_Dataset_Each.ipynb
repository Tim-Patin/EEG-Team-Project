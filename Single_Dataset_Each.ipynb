{
 "cells": [
  {
   "cell_type": "markdown",
   "metadata": {},
   "source": [
    "##### Create dictionary of labels:urchan from Channels.csv"
   ]
  },
  {
   "cell_type": "code",
   "execution_count": null,
   "metadata": {},
   "outputs": [
    {
     "data": {
      "text/plain": [
       "labels\n",
       "Fp1     1\n",
       "Fp2     2\n",
       "F3      3\n",
       "F4      4\n",
       "C3      5\n",
       "       ..\n",
       "PO8    63\n",
       "Fpz    64\n",
       "CPz    65\n",
       "POz    66\n",
       "Oz     67\n",
       "Name: urchan, Length: 66, dtype: int64"
      ]
     },
     "execution_count": 2,
     "metadata": {},
     "output_type": "execute_result"
    }
   ],
   "source": [
    "import pandas as pd\n",
    "\n",
    "# df = pd.DataFrame(pd.read_csv(\"E:\\\\Penn State Homework\\\\Homework\\\\CMPSC\\\\CMPSC 445 Proj\\\\Channels.csv\"))\n",
    "\n",
    "# channels_dict=df.set_index('labels')['urchan']\n",
    "# channels_dict"
   ]
  },
  {
   "cell_type": "code",
   "execution_count": 4,
   "metadata": {},
   "outputs": [
    {
     "name": "stdout",
     "output_type": "stream",
     "text": [
      "Creating RawArray with float64 data, n_channels=10, n_times=79081\n",
      "    Range : 0 ... 79080 =      0.000 ...   158.160 secs\n",
      "Ready.\n",
      "Creating RawArray with float64 data, n_channels=10, n_times=76383\n",
      "    Range : 0 ... 76382 =      0.000 ...   152.764 secs\n",
      "Ready.\n"
     ]
    }
   ],
   "source": [
    "import mne\n",
    "import numpy as np\n",
    "import torch\n",
    "from sklearn.preprocessing import StandardScaler\n",
    "from torch.utils.data import DataLoader, TensorDataset\n",
    "import cupy\n",
    "import os\n",
    "# Load the CSV data\n",
    "data_parkinsons = pd.read_csv('01_EyesOpen.csv', header=None)\n",
    "data_non_parkinsons = pd.read_csv('02_EyesOpen.csv', header=None)\n",
    "\n",
    "#MNE param\n",
    "sfreq = 500.0  # Sampling frequency, adjust if known\n",
    "n_channels = data_parkinsons.shape[1]\n",
    "channel_names = [f\"Ch{i+1}\" for i in range(n_channels)]\n",
    "# channel_names=list(channels_dict.keys())\n",
    "info = mne.create_info(ch_names=channel_names, sfreq=sfreq, ch_types=\"eeg\")\n",
    "\n",
    "data_parkinsons = data_parkinsons.to_numpy().T  # (n_channels, n_times)\n",
    "raw_parkinsons = mne.io.RawArray(data_parkinsons, info)\n",
    "\n",
    "data_non_parkinsons = data_non_parkinsons.to_numpy().T\n",
    "raw_non_parkinsons = mne.io.RawArray(data_non_parkinsons, info)"
   ]
  },
  {
   "cell_type": "code",
   "execution_count": 5,
   "metadata": {},
   "outputs": [
    {
     "name": "stdout",
     "output_type": "stream",
     "text": [
      "Filtering raw data in 1 contiguous segment\n",
      "Setting up band-pass filter from 1 - 30 Hz\n",
      "\n",
      "FIR filter parameters\n",
      "---------------------\n",
      "Designing a one-pass, zero-phase, non-causal bandpass filter:\n",
      "- Windowed time-domain design (firwin) method\n",
      "- Hamming window with 0.0194 passband ripple and 53 dB stopband attenuation\n",
      "- Lower passband edge: 1.00\n",
      "- Lower transition bandwidth: 1.00 Hz (-6 dB cutoff frequency: 0.50 Hz)\n",
      "- Upper passband edge: 30.00 Hz\n",
      "- Upper transition bandwidth: 7.50 Hz (-6 dB cutoff frequency: 33.75 Hz)\n",
      "- Filter length: 1651 samples (3.302 s)\n",
      "\n",
      "Now using CUDA device 0\n",
      "Enabling CUDA with 10.83 GB available memory\n",
      "Using CUDA for FFT FIR filtering\n",
      "Filtering raw data in 1 contiguous segment\n",
      "Setting up band-pass filter from 1 - 30 Hz\n",
      "\n",
      "FIR filter parameters\n",
      "---------------------\n",
      "Designing a one-pass, zero-phase, non-causal bandpass filter:\n",
      "- Windowed time-domain design (firwin) method\n",
      "- Hamming window with 0.0194 passband ripple and 53 dB stopband attenuation\n",
      "- Lower passband edge: 1.00\n",
      "- Lower transition bandwidth: 1.00 Hz (-6 dB cutoff frequency: 0.50 Hz)\n",
      "- Upper passband edge: 30.00 Hz\n",
      "- Upper transition bandwidth: 7.50 Hz (-6 dB cutoff frequency: 33.75 Hz)\n",
      "- Filter length: 1651 samples (3.302 s)\n",
      "\n",
      "Using CUDA for FFT FIR filtering\n"
     ]
    }
   ],
   "source": [
    "os.environ['MNE_USE_CUDA'] = 'true' \n",
    "mne.utils.set_config('MNE_USE_CUDA', 'true') \n",
    "raw_parkinsons.filter(1., 30.,n_jobs='cuda' ,method='fir',fir_design='firwin')\n",
    "raw_non_parkinsons.filter(1., 30., n_jobs='cuda',method='fir',fir_design='firwin')\n",
    "\n",
    "data_parkinsons_filtered = raw_parkinsons.get_data().T  # (n_samples, n_channels)\n",
    "data_non_parkinsons_filtered = raw_non_parkinsons.get_data().T\n"
   ]
  },
  {
   "cell_type": "code",
   "execution_count": 7,
   "metadata": {},
   "outputs": [],
   "source": [
    "#Standardize\n",
    "scaler = StandardScaler()\n",
    "data_parkinsons_filtered = scaler.fit_transform(data_parkinsons_filtered)\n",
    "data_non_parkinsons_filtered = scaler.transform(data_non_parkinsons_filtered)\n",
    "\n",
    "#PyTorch tensors\n",
    "X_parkinsons = torch.tensor(data_parkinsons_filtered, dtype=torch.float32)\n",
    "X_non_parkinsons = torch.tensor(data_non_parkinsons_filtered, dtype=torch.float32)\n",
    "\n",
    "#1=Parkinson's\n",
    "#0=Non-Parkinson's\n",
    "y_parkinsons = torch.ones(X_parkinsons.shape[0], dtype=torch.long)\n",
    "y_non_parkinsons = torch.zeros(X_non_parkinsons.shape[0], dtype=torch.long)\n",
    "\n",
    "#Combine datasets\n",
    "X_combined = torch.cat((X_parkinsons, X_non_parkinsons), dim=0)\n",
    "y_combined = torch.cat((y_parkinsons, y_non_parkinsons), dim=0)\n",
    "\n",
    "#PyTorch Dataloader\n",
    "dataset = TensorDataset(X_combined, y_combined)\n",
    "dataloader = DataLoader(dataset, batch_size=32, shuffle=True)\n"
   ]
  },
  {
   "cell_type": "code",
   "execution_count": 9,
   "metadata": {},
   "outputs": [
    {
     "name": "stdout",
     "output_type": "stream",
     "text": [
      "Using device: cuda\n",
      "Epoch [1/10], Loss: 0.3666\n",
      "Epoch [2/10], Loss: 0.3088\n",
      "Epoch [3/10], Loss: 0.3395\n",
      "Epoch [4/10], Loss: 0.1474\n",
      "Epoch [5/10], Loss: 0.0852\n",
      "Epoch [6/10], Loss: 0.1392\n",
      "Epoch [7/10], Loss: 0.1883\n",
      "Epoch [8/10], Loss: 0.0594\n",
      "Epoch [9/10], Loss: 0.0195\n",
      "Epoch [10/10], Loss: 0.2002\n"
     ]
    }
   ],
   "source": [
    "import torch.nn as nn\n",
    "device = torch.device(\"cuda\" if torch.cuda.is_available() else \"cpu\")\n",
    "print(f\"Using device: {device}\")\n",
    "class EEGClassifier(nn.Module):\n",
    "    def __init__(self):\n",
    "        super(EEGClassifier, self).__init__()\n",
    "        self.layer1= nn.Linear(10, 64)\n",
    "        self.layer2 = nn.Linear(64, 32)\n",
    "        self.layer3 = nn.Linear(32, 2)\n",
    "        self.relu = nn.ReLU()\n",
    "        self.dropout = nn.Dropout(0.3)\n",
    "    \n",
    "    def forward(self, x):\n",
    "        x = self.relu(self.layer1(x))\n",
    "        x = self.dropout(x)\n",
    "        x = self.relu(self.layer2(x))\n",
    "        x = self.dropout(x)\n",
    "        x = self.layer3(x)\n",
    "        return x\n",
    "\n",
    "model = EEGClassifier().to(device) \n",
    "optimizer = torch.optim.Adam(model.parameters(), lr=0.001)\n",
    "criterion = nn.CrossEntropyLoss()\n",
    "\n",
    "# Training loop\n",
    "num_epochs = 10\n",
    "for epoch in range(num_epochs):\n",
    "    for X_batch, y_batch in dataloader:\n",
    "        X_batch = X_batch.to(device)\n",
    "        y_batch = y_batch.to(device)\n",
    "        optimizer.zero_grad()\n",
    "        outputs = model(X_batch)\n",
    "        loss = criterion(outputs, y_batch)\n",
    "        loss.backward()\n",
    "        optimizer.step()\n",
    "    print(f'Epoch [{epoch+1}/{num_epochs}], Loss: {loss.item():.4f}')\n"
   ]
  }
 ],
 "metadata": {
  "kernelspec": {
   "display_name": ".venv",
   "language": "python",
   "name": "python3"
  },
  "language_info": {
   "codemirror_mode": {
    "name": "ipython",
    "version": 3
   },
   "file_extension": ".py",
   "mimetype": "text/x-python",
   "name": "python",
   "nbconvert_exporter": "python",
   "pygments_lexer": "ipython3",
   "version": "3.12.3"
  }
 },
 "nbformat": 4,
 "nbformat_minor": 2
}
