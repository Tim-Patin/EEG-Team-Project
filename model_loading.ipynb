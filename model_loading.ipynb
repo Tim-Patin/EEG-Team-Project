{
 "cells": [
  {
   "cell_type": "code",
   "execution_count": 2,
   "metadata": {},
   "outputs": [],
   "source": [
    "\n",
    "import mne\n",
    "import numpy as np\n",
    "import joblib\n",
    "TARGET_SAMPLING_RATE=250\n",
    "window_size= 2500\n",
    "overlap = 0.5 #50% overlap\n",
    "filename='lr_cv.joblib'"
   ]
  },
  {
   "cell_type": "code",
   "execution_count": null,
   "metadata": {},
   "outputs": [
    {
     "name": "stdout",
     "output_type": "stream",
     "text": [
      "EEG channel type selected for re-referencing\n",
      "Adding average EEG reference projection.\n",
      "1 projection items deactivated\n",
      "Average reference projection was added, but has not been applied yet. Use the apply_proj method to apply it.\n",
      "Filtering raw data in 1 contiguous segment\n",
      "Setting up band-pass filter from 1 - 30 Hz\n",
      "\n",
      "FIR filter parameters\n",
      "---------------------\n",
      "Designing a one-pass, zero-phase, non-causal bandpass filter:\n",
      "- Windowed time-domain design (firwin) method\n",
      "- Hamming window with 0.0194 passband ripple and 53 dB stopband attenuation\n",
      "- Lower passband edge: 1.00\n",
      "- Lower transition bandwidth: 1.00 Hz (-6 dB cutoff frequency: 0.50 Hz)\n",
      "- Upper passband edge: 30.00 Hz\n",
      "- Upper transition bandwidth: 7.50 Hz (-6 dB cutoff frequency: 33.75 Hz)\n",
      "- Filter length: 825 samples (3.300 s)\n",
      "\n",
      "Using CUDA for FFT FIR filtering\n",
      "Fitting ICA to data using 66 channels (please be patient, this may take a while)\n",
      "Selecting by number: 15 components\n",
      "Fitting ICA took 0.9s.\n",
      "Applying ICA to Raw instance\n",
      "    Transforming to ICA space (15 components)\n",
      "    Zeroing out 0 ICA components\n",
      "    Projecting back using 66 PCA components\n",
      "Prediction: Non-Parkinson's'\n",
      "Confidence: 54.248002105376145 %\n"
     ]
    }
   ],
   "source": [
    "'''\n",
    "Similar to the logic inside the for-loop used for creating the dataset from all the .set files\n",
    "'''\n",
    "def process_single_file(file_path, window_size=2500):\n",
    "\n",
    "    #Preprocessing steps\n",
    "    raw = mne.io.read_raw_eeglab(file_path, preload=True)\n",
    "    raw.set_eeg_reference('average', projection=True)\n",
    "    raw.resample(TARGET_SAMPLING_RATE, npad=\"auto\")\n",
    "    raw.filter(1., 30., fir_design='firwin', n_jobs='cuda')\n",
    "    \n",
    "    ica = mne.preprocessing.ICA(n_components=15, random_state=22, max_iter=1000, method='picard')\n",
    "    ica.fit(raw)\n",
    "    raw = ica.apply(raw)\n",
    "    \n",
    "    data = raw.get_data().T\n",
    "    \n",
    "    #Make multiple windows\n",
    "    windows = []\n",
    "    stride = window_size // 2  #50% overlap\n",
    "    for start in range(0, data.shape[0] - window_size + 1, stride):\n",
    "        window = data[start:start + window_size, :]\n",
    "        windows.append(window)\n",
    "    \n",
    "    return np.stack(windows)\n",
    "\n",
    "#Predict a result for the input file\n",
    "def predict_file(file_path, model, scaler, window_size=2500):\n",
    "    windows = process_single_file(file_path, window_size)\n",
    "    X = windows.reshape(windows.shape[0], -1)\n",
    "    X_scaled = scaler.transform(X)\n",
    "    \n",
    "    #Predictions for all windows\n",
    "    predictions = model.predict(X_scaled)\n",
    "    probabilities = model.predict_proba(X_scaled)\n",
    "    \n",
    "    #Majority voting\n",
    "    final_prediction = np.bincount(predictions).argmax()\n",
    "    final_probability = np.mean(probabilities, axis=0)\n",
    "    #file_prediction_prob_avg = np.argmax(final_probability)\n",
    "    return final_prediction, final_probability\n",
    "\n",
    "\n",
    "lr_model = joblib.load(filename)\n",
    "# print(lr_model.n_features_in_)\n",
    "file_path = \"fresh data\\\\16_eyesOpen.set\"\n",
    "scaler=joblib.load('scaler.gz')\n",
    "prediction, probability = predict_file(file_path, lr_model, scaler, window_size=window_size)\n",
    "prediction_label=\"Parkinson's\" if prediction == 1 else \"Non-Parkinson's\"\n",
    "print(\"Prediction:\",prediction_label)\n",
    "print(\"Confidence:\",max(probability)*100,\"%\")\n",
    "# print(\"Prob Avg:\",prob_avg)"
   ]
  }
 ],
 "metadata": {
  "kernelspec": {
   "display_name": ".venv",
   "language": "python",
   "name": "python3"
  },
  "language_info": {
   "codemirror_mode": {
    "name": "ipython",
    "version": 3
   },
   "file_extension": ".py",
   "mimetype": "text/x-python",
   "name": "python",
   "nbconvert_exporter": "python",
   "pygments_lexer": "ipython3",
   "version": "3.12.3"
  }
 },
 "nbformat": 4,
 "nbformat_minor": 2
}
